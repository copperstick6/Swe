{
 "cells": [
  {
   "cell_type": "markdown",
   "metadata": {},
   "source": [
    "# SWE Midterm 1"
   ]
  },
  {
   "cell_type": "code",
   "execution_count": 2,
   "metadata": {},
   "outputs": [
    {
     "name": "stdout",
     "output_type": "stream",
     "text": [
      "Nothing to be done\n"
     ]
    }
   ],
   "source": [
    "if __name__ == \"__main__\":\n",
    "    print(\"Nothing to be done\")"
   ]
  },
  {
   "cell_type": "markdown",
   "metadata": {},
   "source": [
    "All this code does is check environment variable defined by Python to see if this program is the program being run"
   ]
  },
  {
   "cell_type": "markdown",
   "metadata": {},
   "source": [
    "Many ways to run a program:  \n",
    "You can directly invoke Python on the file as such: `python nameoffile.py`  \n",
    "Or, you can change the python program to be an executable via `chmod ugo+x nameoffile.py` and then run the program as `./nameoffile.py`  \n",
    "`#!/usr/bin/env python3` defines it as a python program for running as an executable.   \n",
    "Or you can import the file as a package while running the python interpreter like `import nameoffile`"
   ]
  },
  {
   "cell_type": "markdown",
   "metadata": {},
   "source": [
    "## Python Division Operators"
   ]
  },
  {
   "cell_type": "markdown",
   "metadata": {},
   "source": [
    "Python has two division operators:\n",
    "1. True division: /, always returns a float\n",
    "2. Floor division: //, always returns the type of the input"
   ]
  },
  {
   "cell_type": "markdown",
   "metadata": {},
   "source": [
    "## Assertions"
   ]
  },
  {
   "cell_type": "code",
   "execution_count": 9,
   "metadata": {},
   "outputs": [
    {
     "name": "stdout",
     "output_type": "stream",
     "text": [
      "Assertions.py\n",
      "Done.\n"
     ]
    }
   ],
   "source": [
    "def cycle_length (n: int) -> int :\n",
    "    assert n > 0\n",
    "    c = 1\n",
    "    while n > 1 :\n",
    "        if (n % 2) == 0 :\n",
    "            n = (n // 2)\n",
    "        else :\n",
    "            n = (3 * n) + 1\n",
    "        c += 1\n",
    "    assert c > 0\n",
    "    return c\n",
    "\n",
    "def test () :\n",
    "    assert cycle_length( 1) == 1\n",
    "    assert cycle_length( 5) == 6\n",
    "    assert cycle_length(10) == 7\n",
    "\n",
    "if __name__ == \"__main__\" : # pragma: no cover\n",
    "    print(\"Assertions.py\")\n",
    "    test()\n",
    "    print(\"Done.\")"
   ]
  },
  {
   "cell_type": "markdown",
   "metadata": {},
   "source": [
    "Assertions are good for precondition and postcondition checks.  \n",
    "They are NOT good for testing, or user error"
   ]
  },
  {
   "cell_type": "markdown",
   "metadata": {},
   "source": [
    "REPL: \n",
    "Read, eval, print, loop\n",
    "1. Run the code, confirm success\n",
    "2. Fix the tests, maybe write more tests\n",
    "3. Run the code, confirm failure\n",
    "4. Fix the code\n",
    "5. Run the code, confirm success"
   ]
  },
  {
   "cell_type": "markdown",
   "metadata": {},
   "source": [
    "## About Collatz"
   ]
  },
  {
   "cell_type": "markdown",
   "metadata": {},
   "source": [
    "Unit tests test individual parts of the solution.  \n",
    "Acceptance tests test the overall behavior of the program  \n",
    "Lazy cache: caches in response to reads   \n",
    "Eager cache: caches before reads"
   ]
  },
  {
   "cell_type": "markdown",
   "metadata": {},
   "source": [
    "## Unit Tests"
   ]
  },
  {
   "cell_type": "markdown",
   "metadata": {},
   "source": [
    "Unit tests don't crash the code"
   ]
  },
  {
   "cell_type": "markdown",
   "metadata": {},
   "source": [
    "# Testing & Meta-caches"
   ]
  },
  {
   "cell_type": "markdown",
   "metadata": {},
   "source": [
    "Black box vs white box testing:\n",
    "1. Black box refers to a situation in which you can only look at the input and output, you don't know the inner workings\n",
    "2. White Box refers to a situation in which you know everything (I/O and internals)"
   ]
  },
  {
   "cell_type": "markdown",
   "metadata": {},
   "source": [
    "## Communicating with functions"
   ]
  },
  {
   "cell_type": "markdown",
   "metadata": {},
   "source": [
    "Communication between functions can occur throuhgh the following:\n",
    "1. Use the return mechanism\n",
    "2. Use a global variable\n",
    "3. Use a parameter by reference"
   ]
  },
  {
   "cell_type": "markdown",
   "metadata": {},
   "source": [
    "## Exceptions"
   ]
  },
  {
   "cell_type": "code",
   "execution_count": 13,
   "metadata": {},
   "outputs": [
    {
     "name": "stdout",
     "output_type": "stream",
     "text": [
      "Exceptions.py\n",
      "Done.\n"
     ]
    }
   ],
   "source": [
    "def f (b) :\n",
    "    if b :\n",
    "        raise NameError(\"abc\")\n",
    "    return 0\n",
    "\n",
    "def test1 () :\n",
    "    try :\n",
    "        assert f(False) == 0\n",
    "    except NameError :       # pragma: no cover\n",
    "        assert False\n",
    "    else :                   # no exception vs. raised and handled, but not with break, continue, return\n",
    "        pass\n",
    "    finally :                # always, even with break, continue, return\n",
    "        pass\n",
    "\n",
    "def test2 () :\n",
    "    try :\n",
    "        assert f(True) == 1\n",
    "        assert False                         # pragma: no cover\n",
    "    except NameError as e :\n",
    "        assert type(e)      is NameError\n",
    "        assert type(e.args) is tuple\n",
    "        assert len(e.args)  ==     1\n",
    "        assert e.args       is not (\"abc\",)\n",
    "        assert e.args       ==     (\"abc\",)\n",
    "    else :                                   # no exception vs. raised and handled, but not with break, continue, return\n",
    "        assert False                         # pragma: no cover\n",
    "    finally :                                # always, even with break, continue, return\n",
    "        pass\n",
    "\n",
    "    assert issubclass(NameError,     Exception)\n",
    "    assert issubclass(Exception,     BaseException)\n",
    "    assert issubclass(BaseException, object)\n",
    "\n",
    "def main () :\n",
    "    print(\"Exceptions.py\")\n",
    "    for i in range(2) :\n",
    "        eval(\"test\" + str(i + 1) + \"()\")\n",
    "    print(\"Done.\")\n",
    "\n",
    "if __name__ == \"__main__\" : # pragma: no cover\n",
    "    main()"
   ]
  },
  {
   "cell_type": "markdown",
   "metadata": {},
   "source": [
    "Exceptions extend BaseException in Python, are of type tuple, and have an argument that shows the parameter passed into the error raised."
   ]
  },
  {
   "cell_type": "markdown",
   "metadata": {},
   "source": [
    "Three scenarios:\n",
    "1. No exception was thrown, no catch block was run\n",
    "2. an exception was thrown, caught in the caller, only catch code can run next, followed by normal code again\n",
    "3. an exception was thrown, not caught in the caller, leading us to look for the next caller of the caller"
   ]
  },
  {
   "cell_type": "markdown",
   "metadata": {},
   "source": [
    "## Equality (== vs is)"
   ]
  },
  {
   "cell_type": "markdown",
   "metadata": {},
   "source": [
    "Is: Identity check, checks the underlying pointers   \n",
    "==: Content check, checks the stuff being compared rather than the pointers"
   ]
  },
  {
   "cell_type": "markdown",
   "metadata": {},
   "source": [
    "## Types"
   ]
  },
  {
   "cell_type": "markdown",
   "metadata": {},
   "source": [
    "Mutability refers to whether an object can or cannot be modified.  \n",
    "Mutability is important in that it helps you understand the the process of object creation/deletion.  \n",
    "If an object is immutable, in order to modify it, you have to create a copy and modify the copy and set the object equal to the copy and throw away the original item. This is clearly inefficient.  \n",
    "**COMMON MUTABLE TYPES**  \n",
    "list(), set(), dict(), classes, class instances  \n",
    "**COMMON IMMUTABLES**  \n",
    "int(), float(), str(), complex(), tuple(), frozenset()  \n",
    "**UNHASHABLE MUTABLES**  \n",
    "list(), set(), dict()   \n",
    "This means that these cannot be used in sets, frozenset, or dicts.  \n",
    "**HASHABLE IMMUTABLES**   \n",
    "int, bool, float, str, tuple, frozenset"
   ]
  },
  {
   "cell_type": "code",
   "execution_count": 25,
   "metadata": {
    "collapsed": true
   },
   "outputs": [],
   "source": [
    "def test6 () :\n",
    "    a = list()\n",
    "    assert a          == []\n",
    "    a = [2, 3, 4]\n",
    "    assert a          == [2, 3, 4]\n",
    "    assert type(a)    is list\n",
    "    assert type(list) is type\n",
    "test6()"
   ]
  },
  {
   "cell_type": "markdown",
   "metadata": {},
   "source": [
    "Lists are **mutable**, which means that any change to the list does not change the underlying identity of that list.   \n",
    "Adding to the back is amortized constant. Adding to the middle or the front is always constant. Adding to the back is amortized constant, because the underlying data structure under the list is an array, and it needs to expand sometimes out of its allocated space, because you might be adding to many items. So it copies the old list into a bigger array. This cost is split across all the adds performed.  \n",
    "Removing from the back is always constant, removing from the front or in the middle is always linear\n"
   ]
  },
  {
   "cell_type": "code",
   "execution_count": 16,
   "metadata": {},
   "outputs": [],
   "source": [
    "from collections import deque\n",
    "from typing      import Dict, FrozenSet, List, Set, Tuple\n",
    "from types       import FunctionType\n",
    "\n",
    "def test4 () :\n",
    "    c = complex()\n",
    "    assert c             == 0 + 0j\n",
    "    c = complex(2, 3)\n",
    "    assert c             == 2 + 3j\n",
    "    assert type(c)       is complex\n",
    "    assert type(complex) is type\n",
    "test4()"
   ]
  },
  {
   "cell_type": "markdown",
   "metadata": {},
   "source": [
    "Complex is a built in python type that contains a real and imaginary part"
   ]
  },
  {
   "cell_type": "code",
   "execution_count": 17,
   "metadata": {
    "collapsed": true
   },
   "outputs": [],
   "source": [
    "def test7 () :\n",
    "    u = tuple()\n",
    "    assert u           == ()\n",
    "    u = (2, \"abc\", 3.45)\n",
    "    assert u           == (2, \"abc\", 3.45)\n",
    "    assert type(u)     is tuple\n",
    "    assert type(tuple) is type\n",
    "    \n",
    "test7()"
   ]
  },
  {
   "cell_type": "markdown",
   "metadata": {},
   "source": [
    "Tuple is a sequence of **immutable** Python objects. **This means that you cannot update or change the values of tuple objects.**  \n",
    "An empty tuple is declared with the following: `mynewtuple = ();`"
   ]
  },
  {
   "cell_type": "code",
   "execution_count": 19,
   "metadata": {
    "collapsed": true
   },
   "outputs": [],
   "source": [
    "def test8 () :\n",
    "    x = set()\n",
    "    assert x         == set()     # not {}\n",
    "    x = {2, 3, 4}\n",
    "    assert x         == {2, 3, 4}\n",
    "    assert type(x)   is set\n",
    "    assert type(set) is type\n",
    "test8()"
   ]
  },
  {
   "cell_type": "markdown",
   "metadata": {},
   "source": [
    "Python sets are mutable. An empty set must be declared using `set()`. Using `{}` declares a new dictionary. Sets cannot have duplicates and you cannot change the keys."
   ]
  },
  {
   "cell_type": "code",
   "execution_count": 20,
   "metadata": {
    "collapsed": true
   },
   "outputs": [],
   "source": [
    "def test9 () :\n",
    "    y = frozenset()\n",
    "    assert y               == frozenset()\n",
    "    y = frozenset((2, 3, 4))\n",
    "    assert y               == frozenset([2, 3, 4])\n",
    "    assert type(y)         is frozenset\n",
    "    assert type(frozenset) is type\n",
    "test9()"
   ]
  },
  {
   "cell_type": "markdown",
   "metadata": {},
   "source": [
    "Frozen set is an **immutable** version of the set. While elements of the set can be modified, elements of a frozen set **remains the same**."
   ]
  },
  {
   "cell_type": "code",
   "execution_count": 24,
   "metadata": {
    "collapsed": true
   },
   "outputs": [],
   "source": [
    "def test11 () :\n",
    "    q = deque()\n",
    "    assert q           == deque()\n",
    "    q = deque((2, 3, 4))\n",
    "    assert q           == deque((2, 3, 4))\n",
    "    assert type(q)     is deque\n",
    "    assert type(deque) is type\n",
    "\n",
    "    \n",
    "test11()"
   ]
  },
  {
   "cell_type": "markdown",
   "metadata": {},
   "source": [
    "Deque is a **mutable** iterable object that contains properties of a stack and queue in that it has O(1) removal from the front and the back.  It is a doubly linked list. Indexing is linear."
   ]
  },
  {
   "cell_type": "code",
   "execution_count": 22,
   "metadata": {
    "collapsed": true
   },
   "outputs": [],
   "source": [
    "def test12 () :\n",
    "    def g (v) :\n",
    "        return v + 1\n",
    "    assert type(g)            is FunctionType\n",
    "    assert type(FunctionType) is type\n",
    "\n",
    "test12()"
   ]
  },
  {
   "cell_type": "markdown",
   "metadata": {},
   "source": [
    "Functions have a type too!  \n",
    "A function that takes a function as an argument or returns a function is called a **higher order function**"
   ]
  },
  {
   "cell_type": "code",
   "execution_count": 23,
   "metadata": {
    "collapsed": true
   },
   "outputs": [],
   "source": [
    "def test14 () :\n",
    "    class A :\n",
    "        def __init__ (self, i, f) :\n",
    "            self.i = i\n",
    "            self.f = f\n",
    "\n",
    "    z = A(2, 3.45)\n",
    "    assert z       != A(2, 3.45)\n",
    "    assert type(z) is A\n",
    "    assert type(A) is type\n",
    "\n",
    "    assert isinstance(z, A)\n",
    "    assert isinstance(z, object)\n",
    "\n",
    "    assert issubclass(A, object)\n",
    "\n",
    "    assert type(type) is type\n",
    "    \n",
    "test14()"
   ]
  },
  {
   "cell_type": "markdown",
   "metadata": {},
   "source": [
    "The first assertion doesn't work because `A(2, 3.45)` creates a new object and since the class doesn't override the default comparator, Python will default to comparing addresses, and they are different.  "
   ]
  },
  {
   "cell_type": "markdown",
   "metadata": {},
   "source": [
    "## Operators"
   ]
  },
  {
   "cell_type": "markdown",
   "metadata": {},
   "source": [
    "L-values vs R-values    \n",
    "If you are on the left side of the assignment, you are a l-value. Otherwise, you are an r-value.   \n",
    "The + operator takes two r-values. It is an expression and cannot stand alone.   \n",
    "The += operator takes an l-value on the left, and an r-value on the right. It is a statement and can stand alone. In python, it returns nothing.  \n",
    "List's += takes an iterable on the right. List's + takes another list.  \n",
    "Tuple's += and + takes another tuple.  \n",
    "x+=y and x = x + y are different for list."
   ]
  },
  {
   "cell_type": "markdown",
   "metadata": {},
   "source": [
    "## Iterators"
   ]
  },
  {
   "cell_type": "code",
   "execution_count": 26,
   "metadata": {},
   "outputs": [
    {
     "name": "stdout",
     "output_type": "stream",
     "text": [
      "<class 'list'>\n",
      "2\n",
      "<class 'set'>\n",
      "<class 'set_iterator'>\n",
      "2\n",
      "3\n",
      "4\n",
      "<class 'range'>\n",
      "<class 'range_iterator'>\n",
      "2\n",
      "3\n",
      "4\n"
     ]
    }
   ],
   "source": [
    "a = [2, 3, 4]\n",
    "print(type(a)) # list\n",
    "print(a[0])\n",
    "\n",
    "a = {2, 3, 4}\n",
    "print(type(a)) # set\n",
    "p = iter(a)\n",
    "print(type(p)) # set iterator\n",
    "print(next(p)) # maybe 2\n",
    "print(next(p)) # maybe 3\n",
    "print(next(p)) # maybe 4\n",
    "\n",
    "a = range(2, 5)\n",
    "print(type(a)) # range\n",
    "p = iter(a)\n",
    "print(type(p)) # range iterator\n",
    "print(next(p)) # 2\n",
    "print(next(p)) # 3\n",
    "print(next(p)) # 4"
   ]
  },
  {
   "cell_type": "markdown",
   "metadata": {},
   "source": [
    "Iterators are used to iterate over an iterable. You can get an iterator by calling iter() on an iterable. You can then use next() on the iterator to iterate over objects. The iterator raises a StopIteration when it reaches the end of the iterable"
   ]
  },
  {
   "cell_type": "markdown",
   "metadata": {},
   "source": [
    "## Reduce Function"
   ]
  },
  {
   "cell_type": "code",
   "execution_count": 32,
   "metadata": {},
   "outputs": [
    {
     "name": "stdout",
     "output_type": "stream",
     "text": [
      "9\n"
     ]
    }
   ],
   "source": [
    "from operator import add, mul\n",
    "import functools\n",
    "a = [2, 3, 4]\n",
    "print(functools.reduce(add, a)) # 9"
   ]
  },
  {
   "cell_type": "code",
   "execution_count": 35,
   "metadata": {},
   "outputs": [
    {
     "name": "stdout",
     "output_type": "stream",
     "text": [
      "Reduce.py\n",
      "Done.\n"
     ]
    }
   ],
   "source": [
    "from functools import reduce\n",
    "from operator  import add, mul, sub\n",
    "\n",
    "def test1 () :\n",
    "    assert reduce(add,  [2, 3, 4], 0) == 9\n",
    "\n",
    "def test2 () :\n",
    "    assert reduce(mul,  (2, 3, 4), 1) == 24\n",
    "\n",
    "def test3 () :\n",
    "    assert reduce(sub,  {2, 3, 4}, 2) == -7\n",
    "\n",
    "def test4 () :\n",
    "    assert reduce(None, [],        3) == 3\n",
    "\n",
    "def main () :\n",
    "    for n in range(4) :\n",
    "        eval(\"test\" + str(n + 1) + \"()\")\n",
    "\n",
    "if __name__ == \"__main__\" : # pragma: no cover\n",
    "    print(\"Reduce.py\")\n",
    "    main()\n",
    "    print(\"Done.\")"
   ]
  },
  {
   "cell_type": "markdown",
   "metadata": {},
   "source": [
    "Reduce takes in a binary function, an iterable, and a seed (i.e. starting value)"
   ]
  },
  {
   "cell_type": "markdown",
   "metadata": {},
   "source": [
    "## Iterables"
   ]
  },
  {
   "cell_type": "markdown",
   "metadata": {},
   "source": [
    "Iterables are **NOT EXHAUSTIBLE**, but **ITERATORS ARE EXHAUSTIBLE**.   \n",
    "Iterators are all constant time, constant space, since they are lazy (accommodate infinite structures)"
   ]
  },
  {
   "cell_type": "code",
   "execution_count": 37,
   "metadata": {
    "collapsed": true
   },
   "outputs": [],
   "source": [
    "from itertools import count"
   ]
  },
  {
   "cell_type": "code",
   "execution_count": 39,
   "metadata": {
    "collapsed": true
   },
   "outputs": [],
   "source": [
    "def test1 () :\n",
    "    a = [2, 3, 4]\n",
    "    assert type(a) is list\n",
    "    assert not hasattr(a, \"__next__\")\n",
    "    assert     hasattr(a, \"__iter__\")\n",
    "    s = 0\n",
    "    for v in a :\n",
    "        s += v\n",
    "    assert s == 9\n",
    "test1()"
   ]
  },
  {
   "cell_type": "markdown",
   "metadata": {},
   "source": [
    "You can call iter on a list, but not next."
   ]
  },
  {
   "cell_type": "code",
   "execution_count": 43,
   "metadata": {},
   "outputs": [
    {
     "name": "stdout",
     "output_type": "stream",
     "text": [
      "[2, 3, 4]\n"
     ]
    }
   ],
   "source": [
    "def test2 () :\n",
    "    a = [2, 3, 4]\n",
    "    for v in a :\n",
    "        v += 1            # ?\n",
    "    assert a == [2, 3, 4]\n",
    "    print(a)\n",
    "test2()"
   ]
  },
  {
   "cell_type": "markdown",
   "metadata": {},
   "source": [
    "We're iterating through the array, but the act of iterating through the array does not exhaust it."
   ]
  },
  {
   "cell_type": "code",
   "execution_count": 46,
   "metadata": {},
   "outputs": [
    {
     "name": "stdout",
     "output_type": "stream",
     "text": [
      "[[2], [3], [4]]\n",
      "[[2, 5], [3, 5], [4, 5]]\n"
     ]
    }
   ],
   "source": [
    "def test3 () :\n",
    "    a = [[2], [3], [4]]\n",
    "    print(a)\n",
    "    for v in a :\n",
    "        v += (5,)                        # ?\n",
    "    assert a == [[2, 5], [3, 5], [4, 5]]\n",
    "    print(a)\n",
    "test3()"
   ]
  },
  {
   "cell_type": "markdown",
   "metadata": {},
   "source": [
    "As we mentioned before, list's += handles all iterables. Only the + operator only takes lists. Since a tuple is an iterable, list's += operator will handle it appropriately. In this case, it appends it to the list. This is also possible, because lists are mutable, so since v modifies every item in a, the modification will be reflected in a as well (modifies what the element in a is pointing to)."
   ]
  },
  {
   "cell_type": "code",
   "execution_count": 48,
   "metadata": {},
   "outputs": [
    {
     "name": "stdout",
     "output_type": "stream",
     "text": [
      "(2, 5)\n",
      "(3, 5)\n",
      "(4, 5)\n"
     ]
    }
   ],
   "source": [
    "def test4 () :\n",
    "    a = [(2,), (3,), (4,)]\n",
    "    for v in a :\n",
    "        v += (5,)                  # ?\n",
    "        print(v)\n",
    "    assert a == [(2,), (3,), (4,)]\n",
    "test4()"
   ]
  },
  {
   "cell_type": "markdown",
   "metadata": {},
   "source": [
    "Tuples are immutable, and thus the contents cannot be modified. Thus, += will have no effect on the original tuple."
   ]
  },
  {
   "cell_type": "code",
   "execution_count": null,
   "metadata": {
    "collapsed": true
   },
   "outputs": [],
   "source": [
    "def test5 () :\n",
    "    a = [\"abc\", \"def\", \"ghi\"]\n",
    "    for v in a :\n",
    "        v += \"x\"                      # ?\n",
    "    assert a == [\"abc\", \"def\", \"ghi\"]\n",
    "te"
   ]
  },
  {
   "cell_type": "code",
   "execution_count": null,
   "metadata": {
    "collapsed": true
   },
   "outputs": [],
   "source": []
  },
  {
   "cell_type": "code",
   "execution_count": null,
   "metadata": {
    "collapsed": true
   },
   "outputs": [],
   "source": []
  },
  {
   "cell_type": "code",
   "execution_count": null,
   "metadata": {
    "collapsed": true
   },
   "outputs": [],
   "source": []
  },
  {
   "cell_type": "code",
   "execution_count": null,
   "metadata": {
    "collapsed": true
   },
   "outputs": [],
   "source": []
  },
  {
   "cell_type": "code",
   "execution_count": null,
   "metadata": {
    "collapsed": true
   },
   "outputs": [],
   "source": []
  }
 ],
 "metadata": {
  "kernelspec": {
   "display_name": "Python 3",
   "language": "python",
   "name": "python3"
  },
  "language_info": {
   "codemirror_mode": {
    "name": "ipython",
    "version": 3
   },
   "file_extension": ".py",
   "mimetype": "text/x-python",
   "name": "python",
   "nbconvert_exporter": "python",
   "pygments_lexer": "ipython3",
   "version": "3.6.2"
  }
 },
 "nbformat": 4,
 "nbformat_minor": 2
}
