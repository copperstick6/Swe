{
 "cells": [
  {
   "cell_type": "markdown",
   "metadata": {},
   "source": [
    "# SWE Midterm 1"
   ]
  },
  {
   "cell_type": "markdown",
   "metadata": {},
   "source": [
    "Three tokens: ==, $*$, $**$    \n",
    "Two contexts, function call, function defintion.  "
   ]
  },
  {
   "cell_type": "code",
   "execution_count": 1,
   "metadata": {
    "collapsed": true
   },
   "outputs": [],
   "source": [
    "def f (x, y, z) :\n",
    "    return [x, y, z]\n",
    "\n",
    "def test1 () :\n",
    "    # f(2, 3)                      # TypeError: f() missing 1 required positional argument: 'z'\n",
    "    assert f(2, 3, 4) == [2, 3, 4]\n",
    "    # f(2, 3, 4, 5)                # TypeError: f() takes 3 positional arguments but 4 were given\n",
    "test1()"
   ]
  },
  {
   "cell_type": "markdown",
   "metadata": {},
   "source": [
    "f takes three positional arguments that are required"
   ]
  },
  {
   "cell_type": "code",
   "execution_count": 2,
   "metadata": {
    "collapsed": true
   },
   "outputs": [],
   "source": [
    "def g1 (x, y, z=5) :\n",
    "    return [x, y, z]\n",
    "\n",
    "def test2 () :\n",
    "    assert g1(2, 3)    == [2, 3, 5]\n",
    "    assert g1(2, 3, 4) == [2, 3, 4]\n",
    "\n",
    "# def g2 (x, y=5, z) : # SyntaxError: non-default argument follows default argument\n",
    "#     return [x, y, z]\n",
    "test2()"
   ]
  },
  {
   "cell_type": "markdown",
   "metadata": {},
   "source": [
    "g1 takes two positional arguments that are required, but z is optional. In addition, default arguments cannot follow non default arguments"
   ]
  },
  {
   "cell_type": "code",
   "execution_count": 7,
   "metadata": {
    "collapsed": true
   },
   "outputs": [],
   "source": [
    "def h1 (x=[]) : # mutable default\n",
    "    x += [2]\n",
    "    return x\n",
    "\n",
    "def test3 () :\n",
    "    assert h1()    == [2]\n",
    "    assert h1()    == [2, 2]\n",
    "    assert h1([1]) == [1, 2]\n",
    "    assert h1()    == [2, 2, 2]\n",
    "    assert h1([1]) == [1, 2]\n",
    "test3()"
   ]
  },
  {
   "cell_type": "markdown",
   "metadata": {},
   "source": [
    "If the default is mutable, and you don't pass an argument in, it will edit the default instance"
   ]
  },
  {
   "cell_type": "code",
   "execution_count": 8,
   "metadata": {
    "collapsed": true
   },
   "outputs": [],
   "source": [
    "def h2 (x=()) : # immutable default\n",
    "    x += (2,)\n",
    "    return x\n",
    "\n",
    "def test4 () :\n",
    "    assert h2()     == (2,)\n",
    "    assert h2()     == (2,)\n",
    "    assert h2((1,)) == (1, 2)\n",
    "    assert h2()     == (2,)\n",
    "    assert h2((1,)) == (1, 2)\n",
    "test4()"
   ]
  },
  {
   "cell_type": "markdown",
   "metadata": {},
   "source": [
    "If the default is not a mutable, it will create a new instance every time"
   ]
  },
  {
   "cell_type": "code",
   "execution_count": 9,
   "metadata": {
    "collapsed": true
   },
   "outputs": [],
   "source": [
    "def h3 (x=None) :\n",
    "    if x is None :\n",
    "        x = []\n",
    "    x += [2]\n",
    "    return x\n",
    "\n",
    "def test5 () :\n",
    "    assert h3()     == [2]\n",
    "    assert h3()     == [2]\n",
    "    assert h3([1])  == [1, 2]\n",
    "    assert h3()     == [2]\n",
    "    assert h3([1])  == [1, 2]\n",
    "    assert h3(None) == [2]\n",
    "test5()"
   ]
  },
  {
   "cell_type": "markdown",
   "metadata": {},
   "source": [
    "This is a good way to avoid what's happening in test4. You simply pass in None as the default and create a new array every time."
   ]
  },
  {
   "cell_type": "code",
   "execution_count": 10,
   "metadata": {
    "collapsed": true
   },
   "outputs": [],
   "source": [
    "def f (x, y, z) :\n",
    "    return [x, y, z]\n",
    "\n",
    "def test1 () :\n",
    "    assert f(2, z=4, y=3) == [2, 3, 4]\n",
    "    # f(z=4, 2,   y=3)                 # SyntaxError: non-keyword arg after keyword arg\n",
    "    # f(2,   x=2, y=3)                 # TypeError: f() got multiple values for argument 'x'\n",
    "    # f(2,   a=4, y=3)                 # TypeError: f() got an unexpected keyword argument 'a'\n",
    "test1()"
   ]
  },
  {
   "cell_type": "markdown",
   "metadata": {},
   "source": [
    "Non keyword args must be after keyword args. In addition, you can't have multiple values for a field, and fields must correspond with input var names."
   ]
  },
  {
   "cell_type": "code",
   "execution_count": 12,
   "metadata": {
    "collapsed": true
   },
   "outputs": [],
   "source": [
    "def g (x, *, y, z) :\n",
    "    return [x, y, z]\n",
    "\n",
    "def test2 () :\n",
    "    # g(2)                               # TypeError: f() missing 2 required keyword-only arguments: 'y' and 'z'\n",
    "    assert g(2,   z=4, y=3) == [2, 3, 4]\n",
    "    assert g(x=2, z=4, y=3) == [2, 3, 4]\n",
    "    # g(2, 3, 4)                         # TypeError: f() takes 1 positional argument but 3 were given\n",
    "test2()"
   ]
  },
  {
   "cell_type": "markdown",
   "metadata": {},
   "source": [
    "$*$ is not required. However, everything after the $*$ become keyword-only arguments and need to be specified."
   ]
  },
  {
   "cell_type": "code",
   "execution_count": 13,
   "metadata": {
    "collapsed": true
   },
   "outputs": [],
   "source": [
    "def f (x, y, z) :\n",
    "    return [x, y, z]\n",
    "\n",
    "def test1 () :\n",
    "    t = (3, 4)\n",
    "    assert f(2, 5, t) == [2, 5, (3, 4)]\n",
    "    assert f(2, *t)   == [2, 3, 4]\n",
    "    assert f(*t,  2)  == [3, 4, 2]\n",
    "    assert f(z=2, *t) == [3, 4, 2]\n",
    "    assert f(*t, z=2) == [3, 4, 2]\n",
    "    # f(x=2, *t)                        # TypeError: f() got multiple values for argument 'x'\n",
    "    # f(*t,  x=2)                       # TypeError: f() got multiple values for argument 'x'\n",
    "    # f(*t)                             # TypeError: f() missing 1 required positional argument: 'z'\n",
    "    # f(*t, 2, 3)                       # TypeError: f() takes 3 positional arguments but 4 were given\n",
    "\n",
    "test1()"
   ]
  },
  {
   "cell_type": "markdown",
   "metadata": {},
   "source": [
    "$*$ on a list unpacks it. It takes precedence over keyword-only arguments, so you might run into issues with the compiler being confused with reassignment."
   ]
  },
  {
   "cell_type": "code",
   "execution_count": 14,
   "metadata": {
    "collapsed": true
   },
   "outputs": [],
   "source": [
    "def test2 () :\n",
    "    u = (2, 3)\n",
    "    v = (4,)\n",
    "    assert f(*u, *v) == [2, 3, 4]\n",
    "    assert  [*u, *v] == [2, 3, 4]\n",
    "    assert  (*u, *v) == (2, 3, 4)\n",
    "    assert  {*u, *v} == {2, 3, 4}\n",
    "test2()"
   ]
  },
  {
   "cell_type": "markdown",
   "metadata": {},
   "source": [
    "$*$ unpacks iterables"
   ]
  },
  {
   "cell_type": "code",
   "execution_count": 15,
   "metadata": {
    "collapsed": true
   },
   "outputs": [],
   "source": [
    "def test3 () :\n",
    "    d = {\"z\" : 4, \"y\" : 3, \"x\" : 2}\n",
    "    assert f(**d) == [2, 3, 4]\n",
    "    # f(2,   **d)                   # TypeError: f() got multiple values for argument 'x'\n",
    "    # f(x=2, **d)                   # TypeError: f() got multiple values for keyword argument 'x'\n",
    "test3()"
   ]
  },
  {
   "cell_type": "markdown",
   "metadata": {},
   "source": [
    "unpacking dictionary assigns the keys to the values and puts it into the function"
   ]
  },
  {
   "cell_type": "code",
   "execution_count": 16,
   "metadata": {
    "collapsed": true
   },
   "outputs": [],
   "source": [
    "def test4 () :\n",
    "    d = {\"z\" : 4, \"y\" : 3}\n",
    "    assert f(2,   **d) == [2, 3, 4]\n",
    "    # f(**d, 2)                       # SyntaxError: invalid syntax\n",
    "    assert f(x=2, **d) == [2, 3, 4]\n",
    "    assert f(**d, x=2) == [2, 3, 4]\n",
    "    # assert f(z=2, **d) == [2, 3, 4] # TypeError: f() got multiple values for keyword argument 'z'\n",
    "    # assert f(**d, z=2) == [2, 3, 4] # TypeError: f() got multiple values for keyword argument 'z'\n",
    "test4()"
   ]
  },
  {
   "cell_type": "markdown",
   "metadata": {},
   "source": [
    "Remember that you can't have positional arguments must come before the unpacking. In addition, no duplicates."
   ]
  },
  {
   "cell_type": "code",
   "execution_count": 17,
   "metadata": {
    "collapsed": true
   },
   "outputs": [],
   "source": [
    "def test5 () :\n",
    "    d = {\"y\" : 3}\n",
    "    assert f(2, z=4, **d) == [2, 3, 4]\n",
    "    assert f(2, **d, z=4) == [2, 3, 4]\n",
    "\n",
    "test5()"
   ]
  },
  {
   "cell_type": "markdown",
   "metadata": {},
   "source": [
    "Works as expected. Ordering. Unpacking and by name have same precedence"
   ]
  },
  {
   "cell_type": "code",
   "execution_count": 18,
   "metadata": {
    "collapsed": true
   },
   "outputs": [],
   "source": [
    "def test6 () :\n",
    "    t = (3,)\n",
    "    d = {\"z\" : 4}\n",
    "    assert f(2,   *t,  **d) == [2, 3, 4]\n",
    "    assert f(y=2, *t,  **d) == [3, 2, 4]\n",
    "    assert f(*t,  y=2, **d) == [3, 2, 4]\n",
    "    assert f(*t,  **d, y=2) == [3, 2, 4]\n",
    "    # f(**d, *t, y=2)                    # SyntaxError: iterable argument unpacking follows keyword argument unpacking\n",
    "test6()"
   ]
  },
  {
   "cell_type": "markdown",
   "metadata": {},
   "source": [
    "Iterable still has the precedence stuff."
   ]
  },
  {
   "cell_type": "markdown",
   "metadata": {},
   "source": []
  },
  {
   "cell_type": "markdown",
   "metadata": {},
   "source": []
  },
  {
   "cell_type": "markdown",
   "metadata": {},
   "source": []
  },
  {
   "cell_type": "markdown",
   "metadata": {},
   "source": []
  },
  {
   "cell_type": "markdown",
   "metadata": {},
   "source": []
  },
  {
   "cell_type": "markdown",
   "metadata": {},
   "source": []
  },
  {
   "cell_type": "markdown",
   "metadata": {},
   "source": []
  },
  {
   "cell_type": "markdown",
   "metadata": {},
   "source": []
  },
  {
   "cell_type": "markdown",
   "metadata": {},
   "source": []
  },
  {
   "cell_type": "markdown",
   "metadata": {},
   "source": []
  },
  {
   "cell_type": "markdown",
   "metadata": {},
   "source": []
  },
  {
   "cell_type": "markdown",
   "metadata": {},
   "source": []
  },
  {
   "cell_type": "markdown",
   "metadata": {},
   "source": []
  },
  {
   "cell_type": "markdown",
   "metadata": {},
   "source": []
  },
  {
   "cell_type": "markdown",
   "metadata": {},
   "source": []
  },
  {
   "cell_type": "markdown",
   "metadata": {},
   "source": []
  },
  {
   "cell_type": "markdown",
   "metadata": {},
   "source": []
  },
  {
   "cell_type": "markdown",
   "metadata": {},
   "source": []
  },
  {
   "cell_type": "markdown",
   "metadata": {},
   "source": []
  },
  {
   "cell_type": "markdown",
   "metadata": {},
   "source": []
  },
  {
   "cell_type": "markdown",
   "metadata": {},
   "source": []
  },
  {
   "cell_type": "markdown",
   "metadata": {},
   "source": []
  },
  {
   "cell_type": "markdown",
   "metadata": {},
   "source": []
  },
  {
   "cell_type": "markdown",
   "metadata": {},
   "source": []
  },
  {
   "cell_type": "markdown",
   "metadata": {},
   "source": []
  },
  {
   "cell_type": "markdown",
   "metadata": {},
   "source": []
  },
  {
   "cell_type": "markdown",
   "metadata": {},
   "source": []
  },
  {
   "cell_type": "markdown",
   "metadata": {},
   "source": []
  },
  {
   "cell_type": "markdown",
   "metadata": {},
   "source": []
  },
  {
   "cell_type": "markdown",
   "metadata": {},
   "source": []
  },
  {
   "cell_type": "markdown",
   "metadata": {},
   "source": []
  },
  {
   "cell_type": "markdown",
   "metadata": {},
   "source": []
  }
 ],
 "metadata": {
  "kernelspec": {
   "display_name": "Python 3",
   "language": "python",
   "name": "python3"
  },
  "language_info": {
   "codemirror_mode": {
    "name": "ipython",
    "version": 3
   },
   "file_extension": ".py",
   "mimetype": "text/x-python",
   "name": "python",
   "nbconvert_exporter": "python",
   "pygments_lexer": "ipython3",
   "version": "3.6.2"
  }
 },
 "nbformat": 4,
 "nbformat_minor": 2
}
