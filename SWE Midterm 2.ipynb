{
 "cells": [
  {
   "cell_type": "markdown",
   "metadata": {},
   "source": [
    "# SWE Midterm 1"
   ]
  },
  {
   "cell_type": "markdown",
   "metadata": {},
   "source": [
    "## Unpacking"
   ]
  },
  {
   "cell_type": "markdown",
   "metadata": {},
   "source": [
    "Three tokens: ==, $*$, $**$    \n",
    "Two contexts, function call, function defintion.  "
   ]
  },
  {
   "cell_type": "code",
   "execution_count": 1,
   "metadata": {
    "collapsed": true
   },
   "outputs": [],
   "source": [
    "def f (x, y, z) :\n",
    "    return [x, y, z]\n",
    "\n",
    "def test1 () :\n",
    "    # f(2, 3)                      # TypeError: f() missing 1 required positional argument: 'z'\n",
    "    assert f(2, 3, 4) == [2, 3, 4]\n",
    "    # f(2, 3, 4, 5)                # TypeError: f() takes 3 positional arguments but 4 were given\n",
    "test1()"
   ]
  },
  {
   "cell_type": "markdown",
   "metadata": {},
   "source": [
    "f takes three positional arguments that are required"
   ]
  },
  {
   "cell_type": "code",
   "execution_count": 2,
   "metadata": {
    "collapsed": true
   },
   "outputs": [],
   "source": [
    "def g1 (x, y, z=5) :\n",
    "    return [x, y, z]\n",
    "\n",
    "def test2 () :\n",
    "    assert g1(2, 3)    == [2, 3, 5]\n",
    "    assert g1(2, 3, 4) == [2, 3, 4]\n",
    "\n",
    "# def g2 (x, y=5, z) : # SyntaxError: non-default argument follows default argument\n",
    "#     return [x, y, z]\n",
    "test2()"
   ]
  },
  {
   "cell_type": "markdown",
   "metadata": {},
   "source": [
    "g1 takes two positional arguments that are required, but z is optional. In addition, default arguments cannot follow non default arguments"
   ]
  },
  {
   "cell_type": "code",
   "execution_count": 7,
   "metadata": {
    "collapsed": true
   },
   "outputs": [],
   "source": [
    "def h1 (x=[]) : # mutable default\n",
    "    x += [2]\n",
    "    return x\n",
    "\n",
    "def test3 () :\n",
    "    assert h1()    == [2]\n",
    "    assert h1()    == [2, 2]\n",
    "    assert h1([1]) == [1, 2]\n",
    "    assert h1()    == [2, 2, 2]\n",
    "    assert h1([1]) == [1, 2]\n",
    "test3()"
   ]
  },
  {
   "cell_type": "markdown",
   "metadata": {},
   "source": [
    "If the default is mutable, and you don't pass an argument in, it will edit the default instance"
   ]
  },
  {
   "cell_type": "code",
   "execution_count": 8,
   "metadata": {
    "collapsed": true
   },
   "outputs": [],
   "source": [
    "def h2 (x=()) : # immutable default\n",
    "    x += (2,)\n",
    "    return x\n",
    "\n",
    "def test4 () :\n",
    "    assert h2()     == (2,)\n",
    "    assert h2()     == (2,)\n",
    "    assert h2((1,)) == (1, 2)\n",
    "    assert h2()     == (2,)\n",
    "    assert h2((1,)) == (1, 2)\n",
    "test4()"
   ]
  },
  {
   "cell_type": "markdown",
   "metadata": {},
   "source": [
    "If the default is not a mutable, it will create a new instance every time"
   ]
  },
  {
   "cell_type": "code",
   "execution_count": 9,
   "metadata": {
    "collapsed": true
   },
   "outputs": [],
   "source": [
    "def h3 (x=None) :\n",
    "    if x is None :\n",
    "        x = []\n",
    "    x += [2]\n",
    "    return x\n",
    "\n",
    "def test5 () :\n",
    "    assert h3()     == [2]\n",
    "    assert h3()     == [2]\n",
    "    assert h3([1])  == [1, 2]\n",
    "    assert h3()     == [2]\n",
    "    assert h3([1])  == [1, 2]\n",
    "    assert h3(None) == [2]\n",
    "test5()"
   ]
  },
  {
   "cell_type": "markdown",
   "metadata": {},
   "source": [
    "This is a good way to avoid what's happening in test4. You simply pass in None as the default and create a new array every time."
   ]
  },
  {
   "cell_type": "code",
   "execution_count": 10,
   "metadata": {
    "collapsed": true
   },
   "outputs": [],
   "source": [
    "def f (x, y, z) :\n",
    "    return [x, y, z]\n",
    "\n",
    "def test1 () :\n",
    "    assert f(2, z=4, y=3) == [2, 3, 4]\n",
    "    # f(z=4, 2,   y=3)                 # SyntaxError: non-keyword arg after keyword arg\n",
    "    # f(2,   x=2, y=3)                 # TypeError: f() got multiple values for argument 'x'\n",
    "    # f(2,   a=4, y=3)                 # TypeError: f() got an unexpected keyword argument 'a'\n",
    "test1()"
   ]
  },
  {
   "cell_type": "markdown",
   "metadata": {},
   "source": [
    "Non keyword args must be after keyword args. In addition, you can't have multiple values for a field, and fields must correspond with input var names."
   ]
  },
  {
   "cell_type": "code",
   "execution_count": 12,
   "metadata": {
    "collapsed": true
   },
   "outputs": [],
   "source": [
    "def g (x, *, y, z) :\n",
    "    return [x, y, z]\n",
    "\n",
    "def test2 () :\n",
    "    # g(2)                               # TypeError: f() missing 2 required keyword-only arguments: 'y' and 'z'\n",
    "    assert g(2,   z=4, y=3) == [2, 3, 4]\n",
    "    assert g(x=2, z=4, y=3) == [2, 3, 4]\n",
    "    # g(2, 3, 4)                         # TypeError: f() takes 1 positional argument but 3 were given\n",
    "test2()"
   ]
  },
  {
   "cell_type": "markdown",
   "metadata": {},
   "source": [
    "$*$ is not required. However, everything after the $*$ become keyword-only arguments and need to be specified."
   ]
  },
  {
   "cell_type": "code",
   "execution_count": 13,
   "metadata": {
    "collapsed": true
   },
   "outputs": [],
   "source": [
    "def f (x, y, z) :\n",
    "    return [x, y, z]\n",
    "\n",
    "def test1 () :\n",
    "    t = (3, 4)\n",
    "    assert f(2, 5, t) == [2, 5, (3, 4)]\n",
    "    assert f(2, *t)   == [2, 3, 4]\n",
    "    assert f(*t,  2)  == [3, 4, 2]\n",
    "    assert f(z=2, *t) == [3, 4, 2]\n",
    "    assert f(*t, z=2) == [3, 4, 2]\n",
    "    # f(x=2, *t)                        # TypeError: f() got multiple values for argument 'x'\n",
    "    # f(*t,  x=2)                       # TypeError: f() got multiple values for argument 'x'\n",
    "    # f(*t)                             # TypeError: f() missing 1 required positional argument: 'z'\n",
    "    # f(*t, 2, 3)                       # TypeError: f() takes 3 positional arguments but 4 were given\n",
    "\n",
    "test1()"
   ]
  },
  {
   "cell_type": "markdown",
   "metadata": {},
   "source": [
    "$*$ on a list unpacks it. It takes precedence over keyword-only arguments, so you might run into issues with the compiler being confused with reassignment."
   ]
  },
  {
   "cell_type": "code",
   "execution_count": 14,
   "metadata": {
    "collapsed": true
   },
   "outputs": [],
   "source": [
    "def test2 () :\n",
    "    u = (2, 3)\n",
    "    v = (4,)\n",
    "    assert f(*u, *v) == [2, 3, 4]\n",
    "    assert  [*u, *v] == [2, 3, 4]\n",
    "    assert  (*u, *v) == (2, 3, 4)\n",
    "    assert  {*u, *v} == {2, 3, 4}\n",
    "test2()"
   ]
  },
  {
   "cell_type": "markdown",
   "metadata": {},
   "source": [
    "$*$ unpacks iterables"
   ]
  },
  {
   "cell_type": "code",
   "execution_count": 15,
   "metadata": {
    "collapsed": true
   },
   "outputs": [],
   "source": [
    "def test3 () :\n",
    "    d = {\"z\" : 4, \"y\" : 3, \"x\" : 2}\n",
    "    assert f(**d) == [2, 3, 4]\n",
    "    # f(2,   **d)                   # TypeError: f() got multiple values for argument 'x'\n",
    "    # f(x=2, **d)                   # TypeError: f() got multiple values for keyword argument 'x'\n",
    "test3()"
   ]
  },
  {
   "cell_type": "markdown",
   "metadata": {},
   "source": [
    "unpacking dictionary assigns the keys to the values and puts it into the function"
   ]
  },
  {
   "cell_type": "code",
   "execution_count": 16,
   "metadata": {
    "collapsed": true
   },
   "outputs": [],
   "source": [
    "def test4 () :\n",
    "    d = {\"z\" : 4, \"y\" : 3}\n",
    "    assert f(2,   **d) == [2, 3, 4]\n",
    "    # f(**d, 2)                       # SyntaxError: invalid syntax\n",
    "    assert f(x=2, **d) == [2, 3, 4]\n",
    "    assert f(**d, x=2) == [2, 3, 4]\n",
    "    # assert f(z=2, **d) == [2, 3, 4] # TypeError: f() got multiple values for keyword argument 'z'\n",
    "    # assert f(**d, z=2) == [2, 3, 4] # TypeError: f() got multiple values for keyword argument 'z'\n",
    "test4()"
   ]
  },
  {
   "cell_type": "markdown",
   "metadata": {},
   "source": [
    "Remember that you can't have positional arguments must come before the unpacking. In addition, no duplicates."
   ]
  },
  {
   "cell_type": "code",
   "execution_count": 17,
   "metadata": {
    "collapsed": true
   },
   "outputs": [],
   "source": [
    "def test5 () :\n",
    "    d = {\"y\" : 3}\n",
    "    assert f(2, z=4, **d) == [2, 3, 4]\n",
    "    assert f(2, **d, z=4) == [2, 3, 4]\n",
    "\n",
    "test5()"
   ]
  },
  {
   "cell_type": "markdown",
   "metadata": {},
   "source": [
    "Works as expected. Ordering. Unpacking and by name have same precedence"
   ]
  },
  {
   "cell_type": "code",
   "execution_count": 18,
   "metadata": {
    "collapsed": true
   },
   "outputs": [],
   "source": [
    "def test6 () :\n",
    "    t = (3,)\n",
    "    d = {\"z\" : 4}\n",
    "    assert f(2,   *t,  **d) == [2, 3, 4]\n",
    "    assert f(y=2, *t,  **d) == [3, 2, 4]\n",
    "    assert f(*t,  y=2, **d) == [3, 2, 4]\n",
    "    assert f(*t,  **d, y=2) == [3, 2, 4]\n",
    "    # f(**d, *t, y=2)                    # SyntaxError: iterable argument unpacking follows keyword argument unpacking\n",
    "test6()"
   ]
  },
  {
   "cell_type": "markdown",
   "metadata": {},
   "source": [
    "Iterable still has the precedence stuff."
   ]
  },
  {
   "cell_type": "markdown",
   "metadata": {},
   "source": [
    "## SQL"
   ]
  },
  {
   "cell_type": "markdown",
   "metadata": {},
   "source": [
    "SQL is a declarative language that uses relational algebra.  \n",
    "Select uses an input, which includes a table and a predicate, and outputs another table.   \n",
    "Project uses an input and a set of attributes, and outputs a table."
   ]
  },
  {
   "cell_type": "markdown",
   "metadata": {},
   "source": [
    "## 3-23 HR"
   ]
  },
  {
   "cell_type": "code",
   "execution_count": 19,
   "metadata": {
    "collapsed": true
   },
   "outputs": [],
   "source": [
    "def select(input, function):\n",
    "    return filter(lambda x: function(x), input)"
   ]
  },
  {
   "cell_type": "code",
   "execution_count": 21,
   "metadata": {
    "collapsed": true
   },
   "outputs": [],
   "source": [
    "def project(input, *k):\n",
    "    result = []\n",
    "    for i in input:\n",
    "        cur = {}\n",
    "        for j in k:\n",
    "            if j in i:\n",
    "                cur[j] = i[j]\n",
    "        result += [cur]\n",
    "    return result"
   ]
  },
  {
   "cell_type": "markdown",
   "metadata": {},
   "source": [
    "## 3-26 HR"
   ]
  },
  {
   "cell_type": "code",
   "execution_count": null,
   "metadata": {},
   "outputs": [],
   "source": [
    "/*\n",
    "school names and decisions of\n",
    "applications to CS that were accepted\n",
    "sorted by school in ascending order\n",
    "*/\n",
    "select \"query #1\";\n",
    "SELECT cName, decision FROM Apply WHERE major = \"CS\" and decision = true ORDER BY cName ASC;\n",
    "\n",
    "/*\n",
    "distinct school names and decisions of\n",
    "applications to CS that were accepted\n",
    "sorted by school in descending order\n",
    "limited to two results\n",
    "*/\n",
    "\n",
    "select \"query #2\";\n",
    "SELECT distinct cName, decision from Apply where major = \"CS\" and decision = true ORDER BY cName DESC limit 2;"
   ]
  },
  {
   "cell_type": "markdown",
   "metadata": {},
   "source": [
    "## Regex"
   ]
  },
  {
   "cell_type": "code",
   "execution_count": 24,
   "metadata": {
    "collapsed": true
   },
   "outputs": [],
   "source": [
    "from re import compile, M, search, split, sub\n",
    "\n",
    "def test1 () :\n",
    "    s = \"b ab\\naab 123\"\n",
    "    a = split(\"ab\", s)\n",
    "    assert isinstance(a, list)\n",
    "    assert a == ['b ', '\\na', ' 123']\n",
    "\n",
    "def test2 () :\n",
    "    s = \"b ab\\naab 123\"\n",
    "    a = split(\"ba\", s)\n",
    "    assert isinstance(a, list)\n",
    "    assert a == [s]\n",
    "\n",
    "def test3 () :\n",
    "    s = \"b ab\\naab 123\"\n",
    "    a = split(\"^b\", s)               # start of string\n",
    "    assert isinstance(a, list)\n",
    "    assert a == ['', ' ab\\naab 123']\n",
    "\n",
    "def test4 () :\n",
    "    s = \"b ab\\naab 123\"\n",
    "    a = split(\"^a\", s)      # start of string\n",
    "    assert isinstance(a, list)\n",
    "    assert a == [s]\n",
    "\n",
    "def test5 () :\n",
    "    s = \"b ab\\naab 123\"\n",
    "    r = compile(\"^a\", M)                                # multiline\n",
    "    assert str(type(r)) == \"<class '_sre.SRE_Pattern'>\"\n",
    "    a = r.split(s)\n",
    "    assert isinstance(a,      list)\n",
    "    assert a == ['b ab\\n', 'ab 123']\n"
   ]
  },
  {
   "cell_type": "markdown",
   "metadata": {},
   "source": [
    "test1 separates the string into arrays delimited by ab.  \n",
    "test2 separates by ba, but there's no match, so the string stays the same, but split creates an array  \n",
    "test3 matches b with the beginning of the input, so it splits the array into an empty string in the beginning, and then the rest of the string  \n",
    "test4 doesn't match the regex (string doesn't start with a, so no match)    \n",
    "test5 compiles r into a multiline string, and since the regex matches the second line, we get a two element array as a result of the split."
   ]
  },
  {
   "cell_type": "code",
   "execution_count": 26,
   "metadata": {
    "collapsed": true
   },
   "outputs": [],
   "source": [
    "def test6 () :\n",
    "    s = \"b ab\\naab 123\"\n",
    "    a = split(\"3$\", s)            # end of string\n",
    "    assert isinstance(a, list)\n",
    "    assert a == ['b ab\\naab 12', '']\n",
    "\n",
    "def test7 () :\n",
    "    s = \"b ab\\naab 123\"\n",
    "    a = split(\"b$\", s)      # end of string\n",
    "    assert isinstance(a, list)\n",
    "    assert a == [s]\n",
    "\n",
    "def test8 () :\n",
    "    s = \"b ab\\naab 123\"\n",
    "    r = compile(\"b$\", M)                                # multiline\n",
    "    assert str(type(r)) == \"<class '_sre.SRE_Pattern'>\"\n",
    "    a = r.split(s)\n",
    "    assert isinstance(a,      list)\n",
    "    assert a == ['b a', '\\naab 123']\n",
    "\n",
    "def test9 () :\n",
    "    s = \"b ab\\naab 123\"\n",
    "    a = split(\".\", s)                                              # any character\n",
    "    assert isinstance(a, list)\n",
    "    assert a == ['', '', '', '', '\\n', '', '', '', '', '', '', '']\n",
    "\n",
    "def test10 () :\n",
    "    s = \"b ab\\naab 123\"\n",
    "    a = split(r\"\\d\", s)                 # any digit\n",
    "    assert isinstance(a, list)\n",
    "    assert a == ['b ab\\naab ', '', '', '']"
   ]
  },
  {
   "cell_type": "markdown",
   "metadata": {},
   "source": [
    "test6 checks if 3 is at the end of the input. It exists, so we split the string into two elements  \n",
    "test7 checks if the string ends with b. It doesn't, so split doesn't change the string.   \n",
    "test8 creates a multiline object, and b matches the first line, so an array of two elements is created.   \n",
    "test9 uses ., which matches every character by newline. So it'll create an array of every element except newlines.  \n",
    "test10 matches every digit"
   ]
  },
  {
   "cell_type": "code",
   "execution_count": 33,
   "metadata": {},
   "outputs": [],
   "source": [
    "def test11 () :\n",
    "    s = \"b ab\\naab 123\"\n",
    "    a = split(\"\\D\", s)                                     # any non-digit\n",
    "    assert isinstance(a, list)\n",
    "    assert a == ['', '', '', '', '', '', '', '', '', '123']\n",
    "\n",
    "def test12 () :\n",
    "    s = \"b ab\\naab 123\"\n",
    "    a = split(r\"\\w\", s)                                      # any alphanumeric\n",
    "    assert isinstance(a, list)\n",
    "    assert a == ['', ' ', '', '\\n', '', '', ' ', '', '', '']\n",
    "\n",
    "def test13 () :\n",
    "    s = \"b ab\\naab 123\"\n",
    "    a = split(r\"\\W\", s)                   # any non-alphanumeric\n",
    "    assert isinstance(a, list)\n",
    "    assert a == ['b', 'ab', 'aab', '123']\n",
    "\n",
    "def test14 () :\n",
    "    s = \"b ab\\naab 123\"\n",
    "    m = search(\"(a*)b([^a]*)(a*)b\", s)                # * is zero or more\n",
    "    assert str(type(m)) == \"<class '_sre.SRE_Match'>\"\n",
    "    assert m.group(0) == \"b ab\"\n",
    "    assert m.group(1) == \"\"\n",
    "    assert m.group(2) == \" \"\n",
    "    assert m.group(3) == \"a\"\n",
    "\n",
    "def test15 () :\n",
    "    s = \"b ab\\naab 123\"\n",
    "    m = search(\"(a+)b([^a]*)(a+)b\", s)                # + is one or more\n",
    "    assert str(type(m)) == \"<class '_sre.SRE_Match'>\"\n",
    "    assert m.group(0) == \"ab\\naab\"\n",
    "    assert m.group(1) == \"a\"\n",
    "    assert m.group(2) == \"\\n\"\n",
    "    assert m.group(3) == \"aa\"\n"
   ]
  },
  {
   "cell_type": "markdown",
   "metadata": {},
   "source": [
    "test11 matches a non-digit character.   \n",
    "test12 matches any alphanumeric number  \n",
    "test13 matches any non-word character (i.e. spaces and newlines).   \n",
    "test14 uses search, which will look for and return a set of groups. Group 0 is the entire match, and the following groups are the sub matches. In this case, it matched the first strings (a$*$, 0 or more as, b, any character other than a, 0 or more a, b ).   \n",
    "test15's full match is ab\\naab. The first group is a, the second group is \\n, the last group is aa."
   ]
  },
  {
   "cell_type": "code",
   "execution_count": 29,
   "metadata": {
    "collapsed": true
   },
   "outputs": [],
   "source": [
    "def test16 () :\n",
    "    s = \"b ab\\naab 123\"\n",
    "    m = search(\"(a?)b([^a]*)(a?)b\", s)                # ? is zero or one\n",
    "    assert str(type(m)) == \"<class '_sre.SRE_Match'>\"\n",
    "    assert m.group(0) == \"b ab\"\n",
    "    assert m.group(1) == \"\"\n",
    "    assert m.group(2) == \" \"\n",
    "    assert m.group(3) == \"a\"\n",
    "\n",
    "def test17 () :\n",
    "    s = \"b ab\\naab 123\"\n",
    "    t = sub(\"b \", \"xx\", s)\n",
    "    assert s == \"b ab\\naab 123\"\n",
    "    assert t == \"xxab\\naaxx123\"\n",
    "\n",
    "def test18 () :\n",
    "    s = \"b ab\\naab 123\"\n",
    "    t = sub(\"b.\", \"xx\", s)\n",
    "    assert s == \"b ab\\naab 123\"\n",
    "    assert t == \"xxab\\naaxx123\"\n",
    "\n",
    "def test19 () :\n",
    "    s = \"b ab\\naab 123\"\n",
    "    t = sub(\"\", \"z\", s)\n",
    "    assert s == \"b ab\\naab 123\"\n",
    "    assert t == \"zbz zazbz\\nzazazbz z1z2z3z\"\n"
   ]
  },
  {
   "cell_type": "markdown",
   "metadata": {},
   "source": [
    "test16 uses ? which matches the preceding expression 0 or 1 time. The complete match is b ab (match b, space, a, b).   \n",
    "test17 uses sub, which substitutes the string with another string. In this case, we're substituting \"b \" with xx.    \n",
    "test18 matches \"b.\" or b and any other character and replaces it with xx.  \n",
    "test19 puts z before every character"
   ]
  },
  {
   "cell_type": "markdown",
   "metadata": {},
   "source": [
    "## HR 3-30"
   ]
  },
  {
   "cell_type": "code",
   "execution_count": null,
   "metadata": {
    "collapsed": true
   },
   "outputs": [],
   "source": [
    "/*\n",
    "number of schools in California or Texas\n",
    "MUST USE in\n",
    "*/\n",
    "\n",
    "select \"query #1\";\n",
    "SELECT count(cName) FROM College WHERE state in (\"TX\", \"CA\");\n",
    "\n",
    "/*\n",
    "min, max, and average enrollment of\n",
    "schools whose enrollment is between 20000 and 30000\n",
    "MUST USE between\n",
    "*/\n",
    "\n",
    "select \"query #2\";\n",
    "SELECT min(enrollment), max(enrollment), avg(enrollment) from College where enrollment between 20000 and 30000;\n",
    "\n",
    "/*\n",
    "names and high school sizes of\n",
    "students whose names end in \"y\"\n",
    "*/\n",
    "\n",
    "select \"query #3\";\n",
    "Select sName, sizeHS from Student where sName like \"%y\";\n",
    "\n",
    "/*\n",
    "min, max, and average high school size of\n",
    "students whose names have three letters and end in \"y\"\n",
    "*/\n",
    "\n",
    "select \"query #4\";\n",
    "Select min(sizeHS), max(sizeHS), avg(sizeHS) from Student where sName like \"%y\" and sName like \"__y\";\n",
    "\n",
    "/*\n",
    "GPAs of students who applied in CS\n",
    "sorted in descending order\n",
    "MUST USE subquery\n",
    "*/\n",
    "\n",
    "select \"query #5\";\n",
    "Select GPA from Student where sID in (Select sID from Apply where major = \"CS\") ORDER BY GPA DESC"
   ]
  },
  {
   "cell_type": "markdown",
   "metadata": {},
   "source": [
    "## Relational Algebra"
   ]
  },
  {
   "cell_type": "markdown",
   "metadata": {},
   "source": [
    "Select requires table and unary predicate, whereas project requires a table and attributes.   \n",
    "Joins:\n",
    "1. Cross join creates all possibilities\n",
    "2. Theta Join is a crossjoin with a condition\n",
    "3. Natural Join joins on any field named the same thing\n",
    "4. Self Join- when a table is joined with itself"
   ]
  },
  {
   "cell_type": "markdown",
   "metadata": {},
   "source": [
    "## HR 4-02"
   ]
  },
  {
   "cell_type": "code",
   "execution_count": null,
   "metadata": {
    "collapsed": true
   },
   "outputs": [],
   "source": [
    "/*\n",
    "ID, name, and GPA of students who applied in CS\n",
    "MUST USE subquery\n",
    "*/\n",
    "\n",
    "select \"query #1\";\n",
    "SELECT sID, sName, GPA FROM Student where sID in (Select sID from Apply where major = \"CS\");\n",
    "\n",
    "/*\n",
    "ID, name, and GPA of students who applied in CS\n",
    "MUST USE inner join\n",
    "*/\n",
    "\n",
    "select \"query #2\";\n",
    "Select distinct Student.sID, sName, GPA FROM Student INNER JOIN Apply ON Apply.sID = Student.sID WHERE major = \"CS\";\n",
    "\n",
    "/*\n",
    "ID and name of students who have applied in CS but not in EE\n",
    "*/\n",
    "\n",
    "select \"query #3\";\n",
    "SELECT Student.sID, Student.sName from Student where sID in (Select sID from Apply where major = \"CS\") and sID not in (Select sID from Apply Where major = \"EE\");"
   ]
  },
  {
   "cell_type": "markdown",
   "metadata": {},
   "source": [
    "## HR 4-06"
   ]
  },
  {
   "cell_type": "code",
   "execution_count": 35,
   "metadata": {
    "collapsed": true
   },
   "outputs": [],
   "source": [
    "def cross_join(list1, list2):\n",
    "    for j in list1:\n",
    "        for i in list2:\n",
    "            yield {**j, **i}\n",
    "\n",
    "def cross_join(list1, list2):\n",
    "    return ({**i, **j} for i in list1 for j in list2)\n",
    "            \n",
    "\n",
    "def theta_join(list1, list2, function):\n",
    "    for i in list1:\n",
    "        for j in list2:\n",
    "            if function(i,j):\n",
    "                yield {**i, **j}\n",
    "\n",
    "def theta_join(list1, list2, function):\n",
    "    return ({**i, **j} for i in list1 for j in list2 if function(i,j))\n",
    "\n",
    "def natural_join (r,s) :\n",
    "    return theta_join(r, s, lambda u, v : all(u[k] == v[k] for k in u if k in v))"
   ]
  },
  {
   "cell_type": "markdown",
   "metadata": {},
   "source": [
    "## HR 4-09"
   ]
  },
  {
   "cell_type": "code",
   "execution_count": null,
   "metadata": {
    "collapsed": true
   },
   "outputs": [],
   "source": [
    "/*\n",
    "Extract Method (110)\n",
    "Create Customer.amountFor()\n",
    "\n",
    "Move Method (142)\n",
    "Move Customer.amountFor() to Rental.getCharge()\n",
    "\n",
    "Replace Temp with Query (120)\n",
    "Changed thisAmount to each.getCharge()\n",
    "*/\n",
    "\n",
    "import java.util.Enumeration;\n",
    "import java.util.Vector;\n",
    "\n",
    "class Movie {\n",
    "    public static final int REGULAR     = 0;\n",
    "    public static final int NEW_RELEASE = 1;\n",
    "    public static final int CHILDRENS   = 2;\n",
    "\n",
    "    private String _title;\n",
    "    private int    _priceCode;\n",
    "\n",
    "    public Movie (String title, int priceCode) {\n",
    "        _title = title;\n",
    "        setPriceCode(priceCode);}\n",
    "\n",
    "    public int getPriceCode () { // const\n",
    "        return _priceCode;}\n",
    "\n",
    "    public String getTitle () { // const\n",
    "        return _title;}\n",
    "\n",
    "    public void setPriceCode (int priceCode) {\n",
    "        _priceCode = priceCode;}}\n",
    "\n",
    "class Rental {\n",
    "    private Movie _movie;\n",
    "    private int   _daysRented;\n",
    "\n",
    "    public Rental (Movie movie, int daysRented) {\n",
    "        _movie      = movie;\n",
    "        _daysRented = daysRented;}\n",
    "\n",
    "    public int getDaysRented () { // const\n",
    "        return _daysRented;}\n",
    "    public double getCharge(){\n",
    "        double thisAmount = 0;\n",
    "        switch(_movie.getPriceCode()){\n",
    "            case Movie.REGULAR:\n",
    "                thisAmount += 2;\n",
    "                if (_daysRented > 2)\n",
    "                    thisAmount += (_daysRented - 2) * 1.5;\n",
    "                break;\n",
    "            case Movie.NEW_RELEASE:\n",
    "                thisAmount += _daysRented * 3;\n",
    "                break;\n",
    "            case Movie.CHILDRENS:\n",
    "                thisAmount += 1.5;\n",
    "                if (_daysRented > 3)\n",
    "                    thisAmount += (_daysRented - 3) * 1.5;\n",
    "                break;\n",
    "        }\n",
    "        return thisAmount;\n",
    "    }\n",
    "\n",
    "    public Movie getMovie () { // const\n",
    "        return _movie;}}\n",
    "\n",
    "class Customer {\n",
    "    private String         _name;\n",
    "    private Vector<Rental> _rentals = new Vector<Rental>();\n",
    "\n",
    "    public Customer (String name) {\n",
    "        _name = name;}\n",
    "\n",
    "    public void addRental (Rental rental) {\n",
    "        _rentals.addElement(rental);}\n",
    "\n",
    "    public String getName () { // const\n",
    "        return _name;}\n",
    "    \n",
    "    public String statement () { // O(n)\n",
    "        double              totalAmount          = 0;\n",
    "        int                 frequentRenterPoints = 0;\n",
    "        String              result               = \"Rental Record for \" + getName() + \"\\n\";\n",
    "        Enumeration<Rental> rentals              = _rentals.elements();\n",
    "        while (rentals.hasMoreElements()) {\n",
    "            Rental each       = rentals.nextElement();\n",
    "            totalAmount += each.getCharge();\n",
    "            ++frequentRenterPoints;\n",
    "            if ((each.getMovie().getPriceCode() == Movie.NEW_RELEASE) &&\n",
    "                (each.getDaysRented()           >  1))\n",
    "                ++frequentRenterPoints;\n",
    "            result +=\n",
    "                \"\\t\" + each.getMovie().getTitle() +\n",
    "                \"\\t\" + String.valueOf(each.getCharge()) + \"\\n\";}\n",
    "        result +=\n",
    "            \"Amount owed is \"                  +\n",
    "            String.valueOf(totalAmount) + \"\\n\";\n",
    "        result +=\n",
    "            \"You earned \"                        +\n",
    "            String.valueOf(frequentRenterPoints) +\n",
    "            \" frequent renter points\";\n",
    "        return result;}}\n",
    "\n",
    "final class StrategyPattern1 {\n",
    "    public static void main (String[] args) {\n",
    "        System.out.println(\"StrategyPattern.java\");\n",
    "\n",
    "        Customer x = new Customer(\"Penelope\");\n",
    "        assert x.statement().equals(\n",
    "            \"Rental Record for Penelope\\n\" +\n",
    "            \"Amount owed is 0.0\\n\"         +\n",
    "            \"You earned 0 frequent renter points\");\n",
    "\n",
    "        x.addRental(new Rental(new Movie(\"Shane\", Movie.REGULAR), 2));\n",
    "        assert x.statement().equals(\n",
    "            \"Rental Record for Penelope\\n\" +\n",
    "            \"\\tShane\\t2.0\\n\"               +\n",
    "            \"Amount owed is 2.0\\n\"         +\n",
    "            \"You earned 1 frequent renter points\");\n",
    "\n",
    "        x.addRental(new Rental(new Movie(\"Red River\", Movie.REGULAR), 5));\n",
    "        assert x.statement().equals(\n",
    "            \"Rental Record for Penelope\\n\" +\n",
    "            \"\\tShane\\t2.0\\n\"               +\n",
    "            \"\\tRed River\\t6.5\\n\"           +\n",
    "            \"Amount owed is 8.5\\n\"         +\n",
    "            \"You earned 2 frequent renter points\");\n",
    "\n",
    "        x.addRental(new Rental(new Movie(\"Giant\", Movie.NEW_RELEASE), 1));\n",
    "        assert x.statement().equals(\n",
    "            \"Rental Record for Penelope\\n\" +\n",
    "            \"\\tShane\\t2.0\\n\"               +\n",
    "            \"\\tRed River\\t6.5\\n\"           +\n",
    "            \"\\tGiant\\t3.0\\n\"               +\n",
    "            \"Amount owed is 11.5\\n\"        +\n",
    "            \"You earned 3 frequent renter points\");\n",
    "\n",
    "        x.addRental(new Rental(new Movie(\"2001\", Movie.NEW_RELEASE), 3));\n",
    "        assert x.statement().equals(\n",
    "            \"Rental Record for Penelope\\n\" +\n",
    "            \"\\tShane\\t2.0\\n\"               +\n",
    "            \"\\tRed River\\t6.5\\n\"           +\n",
    "            \"\\tGiant\\t3.0\\n\"               +\n",
    "            \"\\t2001\\t9.0\\n\"                +\n",
    "            \"Amount owed is 20.5\\n\"        +\n",
    "            \"You earned 5 frequent renter points\");\n",
    "\n",
    "        x.addRental(new Rental(new Movie(\"Big Country\", Movie.CHILDRENS), 3));\n",
    "        assert x.statement().equals(\n",
    "            \"Rental Record for Penelope\\n\" +\n",
    "            \"\\tShane\\t2.0\\n\"               +\n",
    "            \"\\tRed River\\t6.5\\n\"           +\n",
    "            \"\\tGiant\\t3.0\\n\"               +\n",
    "            \"\\t2001\\t9.0\\n\"                +\n",
    "            \"\\tBig Country\\t1.5\\n\"         +\n",
    "            \"Amount owed is 22.0\\n\"        +\n",
    "            \"You earned 6 frequent renter points\");\n",
    "\n",
    "        x.addRental(new Rental(new Movie(\"Spartacus\", Movie.CHILDRENS), 5));\n",
    "        assert x.statement().equals(\n",
    "            \"Rental Record for Penelope\\n\" +\n",
    "            \"\\tShane\\t2.0\\n\"               +\n",
    "            \"\\tRed River\\t6.5\\n\"           +\n",
    "            \"\\tGiant\\t3.0\\n\"               +\n",
    "            \"\\t2001\\t9.0\\n\"                +\n",
    "            \"\\tBig Country\\t1.5\\n\"         +\n",
    "            \"\\tSpartacus\\t4.5\\n\"           +\n",
    "            \"Amount owed is 26.5\\n\"        +\n",
    "            \"You earned 7 frequent renter points\");\n",
    "\n",
    "        System.out.println(\"Done.\");}}"
   ]
  },
  {
   "cell_type": "markdown",
   "metadata": {},
   "source": [
    "I basically took the code for movie amount calculations, moved it around to amountFor() and getCharge() and then replaced all calls to thisAmount with each.getCharge()"
   ]
  },
  {
   "cell_type": "markdown",
   "metadata": {},
   "source": []
  },
  {
   "cell_type": "markdown",
   "metadata": {},
   "source": []
  },
  {
   "cell_type": "markdown",
   "metadata": {},
   "source": []
  },
  {
   "cell_type": "markdown",
   "metadata": {},
   "source": []
  },
  {
   "cell_type": "markdown",
   "metadata": {},
   "source": []
  }
 ],
 "metadata": {
  "kernelspec": {
   "display_name": "Python 3",
   "language": "python",
   "name": "python3"
  },
  "language_info": {
   "codemirror_mode": {
    "name": "ipython",
    "version": 3
   },
   "file_extension": ".py",
   "mimetype": "text/x-python",
   "name": "python",
   "nbconvert_exporter": "python",
   "pygments_lexer": "ipython3",
   "version": "3.6.2"
  }
 },
 "nbformat": 4,
 "nbformat_minor": 2
}
